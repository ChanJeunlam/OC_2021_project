{
  "nbformat": 4,
  "nbformat_minor": 0,
  "metadata": {
    "kernelspec": {
      "language": "python",
      "display_name": "Python 3",
      "name": "python3"
    },
    "language_info": {
      "name": "python",
      "version": "3.7.10",
      "mimetype": "text/x-python",
      "codemirror_mode": {
        "name": "ipython",
        "version": 3
      },
      "pygments_lexer": "ipython3",
      "nbconvert_exporter": "python",
      "file_extension": ".py"
    },
    "colab": {
      "name": "exercise-underfitting-and-overfitting.ipynb",
      "provenance": [],
      "include_colab_link": true
    }
  },
  "cells": [
    {
      "cell_type": "markdown",
      "metadata": {
        "id": "view-in-github",
        "colab_type": "text"
      },
      "source": [
        "<a href=\"https://colab.research.google.com/github/ja754969/OC_2021_project/blob/practice-and-read/kaggle_Courses/Intro%20to%20Machine%20Learning/exercise_underfitting_and_overfitting.ipynb\" target=\"_parent\"><img src=\"https://colab.research.google.com/assets/colab-badge.svg\" alt=\"Open In Colab\"/></a>"
      ]
    },
    {
      "cell_type": "markdown",
      "metadata": {
        "id": "OvQBEvcDK--Y"
      },
      "source": [
        "**This notebook is an exercise in the [Introduction to Machine Learning](https://www.kaggle.com/learn/intro-to-machine-learning) course.  You can reference the tutorial at [this link](https://www.kaggle.com/dansbecker/underfitting-and-overfitting).**\n",
        "\n",
        "---\n"
      ]
    },
    {
      "cell_type": "markdown",
      "metadata": {
        "id": "LhPR6C6HK--c"
      },
      "source": [
        "## Recap\n",
        "You've built your first model, and now it's time to optimize the size of the tree to make better predictions. Run this cell to set up your coding environment where the previous step left off."
      ]
    },
    {
      "cell_type": "code",
      "metadata": {
        "execution": {
          "iopub.status.busy": "2021-08-13T05:20:06.339349Z",
          "iopub.execute_input": "2021-08-13T05:20:06.339755Z",
          "iopub.status.idle": "2021-08-13T05:20:07.762407Z",
          "shell.execute_reply.started": "2021-08-13T05:20:06.33966Z",
          "shell.execute_reply": "2021-08-13T05:20:07.760821Z"
        },
        "trusted": true,
        "id": "DwcgXl6XK--d"
      },
      "source": [
        "# Code you have previously used to load data\n",
        "import pandas as pd\n",
        "from sklearn.metrics import mean_absolute_error\n",
        "from sklearn.model_selection import train_test_split\n",
        "from sklearn.tree import DecisionTreeRegressor\n",
        "\n",
        "\n",
        "# Path of the file to read\n",
        "iowa_file_path = '../input/home-data-for-ml-course/train.csv'\n",
        "\n",
        "home_data = pd.read_csv(iowa_file_path)\n",
        "# Create target object and call it y\n",
        "y = home_data.SalePrice\n",
        "# Create X\n",
        "features = ['LotArea', 'YearBuilt', '1stFlrSF', '2ndFlrSF', 'FullBath', 'BedroomAbvGr', 'TotRmsAbvGrd']\n",
        "X = home_data[features]\n",
        "\n",
        "# Split into validation and training data\n",
        "train_X, val_X, train_y, val_y = train_test_split(X, y, random_state=1)\n",
        "\n",
        "# Specify Model\n",
        "iowa_model = DecisionTreeRegressor(random_state=1)\n",
        "# Fit Model\n",
        "iowa_model.fit(train_X, train_y)\n",
        "\n",
        "# Make validation predictions and calculate mean absolute error\n",
        "val_predictions = iowa_model.predict(val_X)\n",
        "val_mae = mean_absolute_error(val_predictions, val_y)\n",
        "print(\"Validation MAE: {:,.0f}\".format(val_mae))\n",
        "\n",
        "# Set up code checking\n",
        "from learntools.core import binder\n",
        "binder.bind(globals())\n",
        "from learntools.machine_learning.ex5 import *\n",
        "print(\"\\nSetup complete\")"
      ],
      "execution_count": null,
      "outputs": []
    },
    {
      "cell_type": "markdown",
      "metadata": {
        "id": "ysBEH3FsK--f"
      },
      "source": [
        "# Exercises\n",
        "You could write the function `get_mae` yourself. For now, we'll supply it. This is the same function you read about in the previous lesson. Just run the cell below."
      ]
    },
    {
      "cell_type": "code",
      "metadata": {
        "execution": {
          "iopub.status.busy": "2021-08-13T05:26:29.240383Z",
          "iopub.execute_input": "2021-08-13T05:26:29.240808Z",
          "iopub.status.idle": "2021-08-13T05:26:29.246203Z",
          "shell.execute_reply.started": "2021-08-13T05:26:29.240775Z",
          "shell.execute_reply": "2021-08-13T05:26:29.24537Z"
        },
        "trusted": true,
        "id": "tFdssDGzK--f"
      },
      "source": [
        "def get_mae(max_leaf_nodes, train_X, val_X, train_y, val_y):\n",
        "    model = DecisionTreeRegressor(max_leaf_nodes=max_leaf_nodes, random_state=0)\n",
        "    model.fit(train_X, train_y)\n",
        "    preds_val = model.predict(val_X)\n",
        "    mae = mean_absolute_error(val_y, preds_val)\n",
        "    return(mae)"
      ],
      "execution_count": null,
      "outputs": []
    },
    {
      "cell_type": "markdown",
      "metadata": {
        "id": "3kDGPtBkK--g"
      },
      "source": [
        "## Step 1: Compare Different Tree Sizes\n",
        "Write a loop that tries the following values for *max_leaf_nodes* from a set of possible values.\n",
        "\n",
        "Call the *get_mae* function on each value of max_leaf_nodes. Store the output in some way that allows you to select the value of `max_leaf_nodes` that gives the most accurate model on your data."
      ]
    },
    {
      "cell_type": "code",
      "metadata": {
        "execution": {
          "iopub.status.busy": "2021-08-13T06:13:07.404019Z",
          "iopub.execute_input": "2021-08-13T06:13:07.404425Z",
          "iopub.status.idle": "2021-08-13T06:13:07.463281Z",
          "shell.execute_reply.started": "2021-08-13T06:13:07.404393Z",
          "shell.execute_reply": "2021-08-13T06:13:07.46245Z"
        },
        "trusted": true,
        "id": "-NibC5QRK--g"
      },
      "source": [
        "candidate_max_leaf_nodes = [5, 25, 50, 100, 250, 500]\n",
        "# Write loop to find the ideal tree size from candidate_max_leaf_nodes\n",
        "all_mae = []\n",
        "for leaf_size in candidate_max_leaf_nodes:\n",
        "    mae = get_mae(leaf_size, train_X, val_X, train_y, val_y)\n",
        "    #print(mae)\n",
        "    #print(all_mae)\n",
        "    all_mae.append(mae) \n",
        "print(all_mae)\n",
        "print(all_mae.index(min(all_mae)))\n",
        "print(candidate_max_leaf_nodes[all_mae.index(min(all_mae))])\n",
        "# Store the best value of max_leaf_nodes (it will be either 5, 25, 50, 100, 250 or 500)\n",
        "best_tree_size = candidate_max_leaf_nodes[all_mae.index(min(all_mae))]\n",
        "\n",
        "# Check your answer\n",
        "step_1.check()\n",
        "# Here is a short solution with a dict comprehension.\n",
        "# The lesson gives an example of how to do this with an explicit loop.\n",
        "#scores = {leaf_size: get_mae(leaf_size, train_X, val_X, train_y, val_y) for leaf_size in candidate_max_leaf_nodes}\n",
        "#best_tree_size = min(scores, key=scores.get)"
      ],
      "execution_count": null,
      "outputs": []
    },
    {
      "cell_type": "code",
      "metadata": {
        "execution": {
          "iopub.status.busy": "2021-08-13T05:45:31.998086Z",
          "iopub.execute_input": "2021-08-13T05:45:31.998469Z",
          "iopub.status.idle": "2021-08-13T05:45:32.010012Z",
          "shell.execute_reply.started": "2021-08-13T05:45:31.998438Z",
          "shell.execute_reply": "2021-08-13T05:45:32.00937Z"
        },
        "trusted": true,
        "id": "DjElqES7K--h"
      },
      "source": [
        "# The lines below will show you a hint or the solution.\n",
        "step_1.hint() \n",
        "step_1.solution()"
      ],
      "execution_count": null,
      "outputs": []
    },
    {
      "cell_type": "markdown",
      "metadata": {
        "id": "PjFTC4PvK--h"
      },
      "source": [
        "## Step 2: Fit Model Using All Data\n",
        "You know the best tree size. If you were going to deploy this model in practice, you would make it even more accurate by using all of the data and keeping that tree size.  That is, you don't need to hold out the validation data now that you've made all your modeling decisions."
      ]
    },
    {
      "cell_type": "code",
      "metadata": {
        "execution": {
          "iopub.status.busy": "2021-08-13T06:18:32.833231Z",
          "iopub.execute_input": "2021-08-13T06:18:32.833899Z",
          "iopub.status.idle": "2021-08-13T06:18:32.854162Z",
          "shell.execute_reply.started": "2021-08-13T06:18:32.833854Z",
          "shell.execute_reply": "2021-08-13T06:18:32.852973Z"
        },
        "trusted": true,
        "id": "CHC1x9mXK--i"
      },
      "source": [
        "# Fill in argument to make optimal size and uncomment\n",
        "final_model = DecisionTreeRegressor(max_leaf_nodes = best_tree_size, random_state=0)\n",
        "\n",
        "# fit the final model and uncomment the next two lines\n",
        "final_model.fit(X, y)\n",
        "\n",
        "# Check your answer\n",
        "step_2.check()"
      ],
      "execution_count": null,
      "outputs": []
    },
    {
      "cell_type": "code",
      "metadata": {
        "execution": {
          "iopub.status.busy": "2021-08-13T06:17:26.090414Z",
          "iopub.execute_input": "2021-08-13T06:17:26.0908Z",
          "iopub.status.idle": "2021-08-13T06:17:26.103429Z",
          "shell.execute_reply.started": "2021-08-13T06:17:26.090761Z",
          "shell.execute_reply": "2021-08-13T06:17:26.102267Z"
        },
        "trusted": true,
        "id": "-ihRR7tiK--i"
      },
      "source": [
        "step_2.hint()\n",
        "step_2.solution()"
      ],
      "execution_count": null,
      "outputs": []
    },
    {
      "cell_type": "markdown",
      "metadata": {
        "id": "Z-G0TN9YK--j"
      },
      "source": [
        "You've tuned this model and improved your results. But we are still using Decision Tree models, which are not very sophisticated by modern machine learning standards. In the next step you will learn to use Random Forests to improve your models even more.\n",
        "\n",
        "# Keep Going\n",
        "\n",
        "You are ready for **[Random Forests](https://www.kaggle.com/dansbecker/random-forests).**\n"
      ]
    },
    {
      "cell_type": "markdown",
      "metadata": {
        "id": "pr8PvKkjK--j"
      },
      "source": [
        "---\n",
        "\n",
        "\n",
        "\n",
        "\n",
        "*Have questions or comments? Visit the [Learn Discussion forum](https://www.kaggle.com/learn-forum/161285) to chat with other Learners.*"
      ]
    }
  ]
}