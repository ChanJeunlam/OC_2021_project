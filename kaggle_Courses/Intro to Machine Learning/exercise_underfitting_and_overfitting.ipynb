{
  "nbformat": 4,
  "nbformat_minor": 0,
  "metadata": {
    "kernelspec": {
      "language": "python",
      "display_name": "Python 3",
      "name": "python3"
    },
    "language_info": {
      "name": "python",
      "version": "3.7.10",
      "mimetype": "text/x-python",
      "codemirror_mode": {
        "name": "ipython",
        "version": 3
      },
      "pygments_lexer": "ipython3",
      "nbconvert_exporter": "python",
      "file_extension": ".py"
    },
    "colab": {
      "name": "exercise-underfitting-and-overfitting.ipynb",
      "provenance": [],
      "include_colab_link": true
    }
  },
  "cells": [
    {
      "cell_type": "markdown",
      "metadata": {
        "id": "view-in-github",
        "colab_type": "text"
      },
      "source": [
        "<a href=\"https://colab.research.google.com/github/ja754969/OC_2021_project/blob/practice-and-read/kaggle_Courses/Intro%20to%20Machine%20Learning/exercise_underfitting_and_overfitting.ipynb\" target=\"_parent\"><img src=\"https://colab.research.google.com/assets/colab-badge.svg\" alt=\"Open In Colab\"/></a>"
      ]
    },
    {
      "cell_type": "markdown",
      "metadata": {
        "id": "OvQBEvcDK--Y"
      },
      "source": [
        "**This notebook is an exercise in the [Introduction to Machine Learning](https://www.kaggle.com/learn/intro-to-machine-learning) course.  You can reference the tutorial at [this link](https://www.kaggle.com/dansbecker/underfitting-and-overfitting).**\n",
        "\n",
        "---\n"
      ]
    },
    {
      "cell_type": "markdown",
      "metadata": {
        "id": "LhPR6C6HK--c"
      },
      "source": [
        "## Recap\n",
        "You've built your first model, and now it's time to optimize the size of the tree to make better predictions. Run this cell to set up your coding environment where the previous step left off."
      ]
    },
    {
      "cell_type": "code",
      "metadata": {
        "execution": {
          "iopub.status.busy": "2021-08-13T05:20:06.339349Z",
          "iopub.execute_input": "2021-08-13T05:20:06.339755Z",
          "iopub.status.idle": "2021-08-13T05:20:07.762407Z",
          "shell.execute_reply.started": "2021-08-13T05:20:06.33966Z",
          "shell.execute_reply": "2021-08-13T05:20:07.760821Z"
        },
        "trusted": true,
        "id": "DwcgXl6XK--d",
        "outputId": "5818b310-d76b-4435-895e-a4188ce76228",
        "colab": {
          "base_uri": "https://localhost:8080/"
        }
      },
      "source": [
        "# Code you have previously used to load data\n",
        "import pandas as pd\n",
        "from sklearn.metrics import mean_absolute_error\n",
        "from sklearn.model_selection import train_test_split\n",
        "from sklearn.tree import DecisionTreeRegressor\n",
        "\n",
        "\n",
        "# Path of the file to read\n",
        "!git clone https://github.com/ja754969/OC_2021_project.git\n",
        "iowa_file_path = '/content/OC_2021_project/kaggle_Courses/Intro to Machine Learning/input/home-data-for-ml-course/train.csv'\n",
        "\n",
        "home_data = pd.read_csv(iowa_file_path)\n",
        "# Create target object and call it y\n",
        "y = home_data.SalePrice\n",
        "# Create X\n",
        "features = ['LotArea', 'YearBuilt', '1stFlrSF', '2ndFlrSF', 'FullBath', 'BedroomAbvGr', 'TotRmsAbvGrd']\n",
        "X = home_data[features]\n",
        "\n",
        "# Split into validation and training data\n",
        "train_X, val_X, train_y, val_y = train_test_split(X, y, random_state=1)\n",
        "\n",
        "# Specify Model\n",
        "iowa_model = DecisionTreeRegressor(random_state=1)\n",
        "# Fit Model\n",
        "iowa_model.fit(train_X, train_y)\n",
        "\n",
        "# Make validation predictions and calculate mean absolute error\n",
        "val_predictions = iowa_model.predict(val_X)\n",
        "val_mae = mean_absolute_error(val_predictions, val_y)\n",
        "print(\"Validation MAE: {:,.0f}\".format(val_mae))\n",
        "\n",
        "print(\"\\nSetup complete\")"
      ],
      "execution_count": 2,
      "outputs": [
        {
          "output_type": "stream",
          "text": [
            "Cloning into 'OC_2021_project'...\n",
            "remote: Enumerating objects: 640, done.\u001b[K\n",
            "remote: Counting objects: 100% (295/295), done.\u001b[K\n",
            "remote: Compressing objects: 100% (286/286), done.\u001b[K\n",
            "remote: Total 640 (delta 164), reused 2 (delta 2), pack-reused 345\u001b[K\n",
            "Receiving objects: 100% (640/640), 28.17 MiB | 25.34 MiB/s, done.\n",
            "Resolving deltas: 100% (312/312), done.\n",
            "Validation MAE: 29,653\n",
            "\n",
            "Setup complete\n"
          ],
          "name": "stdout"
        }
      ]
    },
    {
      "cell_type": "markdown",
      "metadata": {
        "id": "ysBEH3FsK--f"
      },
      "source": [
        "# Exercises\n",
        "You could write the function `get_mae` yourself. For now, we'll supply it. This is the same function you read about in the previous lesson. Just run the cell below."
      ]
    },
    {
      "cell_type": "code",
      "metadata": {
        "execution": {
          "iopub.status.busy": "2021-08-13T05:26:29.240383Z",
          "iopub.execute_input": "2021-08-13T05:26:29.240808Z",
          "iopub.status.idle": "2021-08-13T05:26:29.246203Z",
          "shell.execute_reply.started": "2021-08-13T05:26:29.240775Z",
          "shell.execute_reply": "2021-08-13T05:26:29.24537Z"
        },
        "trusted": true,
        "id": "tFdssDGzK--f"
      },
      "source": [
        "def get_mae(max_leaf_nodes, train_X, val_X, train_y, val_y):\n",
        "    model = DecisionTreeRegressor(max_leaf_nodes=max_leaf_nodes, random_state=0)\n",
        "    model.fit(train_X, train_y)\n",
        "    preds_val = model.predict(val_X)\n",
        "    mae = mean_absolute_error(val_y, preds_val)\n",
        "    return(mae)"
      ],
      "execution_count": 3,
      "outputs": []
    },
    {
      "cell_type": "markdown",
      "metadata": {
        "id": "3kDGPtBkK--g"
      },
      "source": [
        "## Step 1: Compare Different Tree Sizes\n",
        "Write a loop that tries the following values for *max_leaf_nodes* from a set of possible values.\n",
        "\n",
        "Call the *get_mae* function on each value of max_leaf_nodes. Store the output in some way that allows you to select the value of `max_leaf_nodes` that gives the most accurate model on your data."
      ]
    },
    {
      "cell_type": "code",
      "metadata": {
        "execution": {
          "iopub.status.busy": "2021-08-13T06:13:07.404019Z",
          "iopub.execute_input": "2021-08-13T06:13:07.404425Z",
          "iopub.status.idle": "2021-08-13T06:13:07.463281Z",
          "shell.execute_reply.started": "2021-08-13T06:13:07.404393Z",
          "shell.execute_reply": "2021-08-13T06:13:07.46245Z"
        },
        "trusted": true,
        "id": "-NibC5QRK--g",
        "outputId": "025a4861-fab5-43da-e63b-e78db019491b",
        "colab": {
          "base_uri": "https://localhost:8080/"
        }
      },
      "source": [
        "candidate_max_leaf_nodes = [5, 25, 50, 100, 250, 500]\n",
        "# Write loop to find the ideal tree size from candidate_max_leaf_nodes\n",
        "all_mae = []\n",
        "for leaf_size in candidate_max_leaf_nodes:\n",
        "    mae = get_mae(leaf_size, train_X, val_X, train_y, val_y)\n",
        "    #print(mae)\n",
        "    #print(all_mae)\n",
        "    all_mae.append(mae) \n",
        "print(all_mae)\n",
        "print(all_mae.index(min(all_mae)))\n",
        "print(candidate_max_leaf_nodes[all_mae.index(min(all_mae))])\n",
        "# Store the best value of max_leaf_nodes (it will be either 5, 25, 50, 100, 250 or 500)\n",
        "best_tree_size = candidate_max_leaf_nodes[all_mae.index(min(all_mae))]\n",
        "\n",
        "\n",
        "# Here is a short solution with a dict comprehension.\n",
        "# The lesson gives an example of how to do this with an explicit loop.\n",
        "\n",
        "#scores = {leaf_size: get_mae(leaf_size, train_X, val_X, train_y, val_y) for leaf_size in candidate_max_leaf_nodes}\n",
        "#best_tree_size = min(scores, key=scores.get)"
      ],
      "execution_count": 4,
      "outputs": [
        {
          "output_type": "stream",
          "text": [
            "[35044.51299744237, 29016.41319191076, 27405.930473214907, 27282.50803885739, 27893.822225701646, 29454.18598068598]\n",
            "3\n",
            "100\n"
          ],
          "name": "stdout"
        }
      ]
    },
    {
      "cell_type": "markdown",
      "metadata": {
        "id": "PjFTC4PvK--h"
      },
      "source": [
        "## Step 2: Fit Model Using All Data\n",
        "You know the best tree size. If you were going to deploy this model in practice, you would make it even more accurate by using all of the data and keeping that tree size.  That is, you don't need to hold out the validation data now that you've made all your modeling decisions."
      ]
    },
    {
      "cell_type": "code",
      "metadata": {
        "execution": {
          "iopub.status.busy": "2021-08-13T06:18:32.833231Z",
          "iopub.execute_input": "2021-08-13T06:18:32.833899Z",
          "iopub.status.idle": "2021-08-13T06:18:32.854162Z",
          "shell.execute_reply.started": "2021-08-13T06:18:32.833854Z",
          "shell.execute_reply": "2021-08-13T06:18:32.852973Z"
        },
        "trusted": true,
        "id": "CHC1x9mXK--i",
        "outputId": "e091cf77-e82e-43dd-d232-8c27ec83fdf7",
        "colab": {
          "base_uri": "https://localhost:8080/"
        }
      },
      "source": [
        "# Fill in argument to make optimal size and uncomment\n",
        "final_model = DecisionTreeRegressor(max_leaf_nodes = best_tree_size, random_state=0)\n",
        "\n",
        "# fit the final model and uncomment the next two lines\n",
        "final_model.fit(X, y)"
      ],
      "execution_count": 5,
      "outputs": [
        {
          "output_type": "execute_result",
          "data": {
            "text/plain": [
              "DecisionTreeRegressor(ccp_alpha=0.0, criterion='mse', max_depth=None,\n",
              "                      max_features=None, max_leaf_nodes=100,\n",
              "                      min_impurity_decrease=0.0, min_impurity_split=None,\n",
              "                      min_samples_leaf=1, min_samples_split=2,\n",
              "                      min_weight_fraction_leaf=0.0, presort='deprecated',\n",
              "                      random_state=0, splitter='best')"
            ]
          },
          "metadata": {
            "tags": []
          },
          "execution_count": 5
        }
      ]
    },
    {
      "cell_type": "markdown",
      "metadata": {
        "id": "Z-G0TN9YK--j"
      },
      "source": [
        "You've tuned this model and improved your results. But we are still using Decision Tree models, which are not very sophisticated by modern machine learning standards. In the next step you will learn to use Random Forests to improve your models even more.\n",
        "\n",
        "# Keep Going\n",
        "\n",
        "You are ready for **[Random Forests](https://www.kaggle.com/dansbecker/random-forests).**\n"
      ]
    },
    {
      "cell_type": "markdown",
      "metadata": {
        "id": "pr8PvKkjK--j"
      },
      "source": [
        "---\n",
        "\n",
        "\n",
        "\n",
        "\n",
        "*Have questions or comments? Visit the [Learn Discussion forum](https://www.kaggle.com/learn-forum/161285) to chat with other Learners.*"
      ]
    }
  ]
}