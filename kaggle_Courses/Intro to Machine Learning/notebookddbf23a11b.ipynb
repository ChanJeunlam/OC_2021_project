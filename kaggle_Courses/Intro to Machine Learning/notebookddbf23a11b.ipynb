{
  "nbformat": 4,
  "nbformat_minor": 0,
  "metadata": {
    "kernelspec": {
      "language": "python",
      "display_name": "Python 3",
      "name": "python3"
    },
    "language_info": {
      "pygments_lexer": "ipython3",
      "nbconvert_exporter": "python",
      "version": "3.6.4",
      "file_extension": ".py",
      "codemirror_mode": {
        "name": "ipython",
        "version": 3
      },
      "name": "python",
      "mimetype": "text/x-python"
    },
    "colab": {
      "name": "notebookddbf23a11b.ipynb",
      "provenance": [],
      "include_colab_link": true
    }
  },
  "cells": [
    {
      "cell_type": "markdown",
      "metadata": {
        "id": "view-in-github",
        "colab_type": "text"
      },
      "source": [
        "<a href=\"https://colab.research.google.com/github/ja754969/OC_2021_project/blob/practice-and-read/kaggle_Courses/Intro%20to%20Machine%20Learning/notebookddbf23a11b.ipynb\" target=\"_parent\"><img src=\"https://colab.research.google.com/assets/colab-badge.svg\" alt=\"Open In Colab\"/></a>"
      ]
    },
    {
      "cell_type": "markdown",
      "metadata": {
        "id": "z783J0swPYU3"
      },
      "source": [
        "**This notebook is an exercise in the [Introduction to Machine Learning](https://www.kaggle.com/learn/intro-to-machine-learning) course.  You can reference the tutorial at [this link](https://www.kaggle.com/dansbecker/model-validation).**\n",
        "\n",
        "---\n"
      ]
    },
    {
      "cell_type": "markdown",
      "metadata": {
        "id": "VTWZFzn5PYU8"
      },
      "source": [
        "## Recap\n",
        "You've built a model. In this exercise you will test how good your model is.\n",
        "\n",
        "Run the cell below to set up your coding environment where the previous exercise left off."
      ]
    },
    {
      "cell_type": "code",
      "metadata": {
        "execution": {
          "iopub.status.busy": "2021-08-13T01:40:38.207438Z",
          "iopub.execute_input": "2021-08-13T01:40:38.207787Z",
          "iopub.status.idle": "2021-08-13T01:40:39.483602Z",
          "shell.execute_reply.started": "2021-08-13T01:40:38.207759Z",
          "shell.execute_reply": "2021-08-13T01:40:39.482404Z"
        },
        "trusted": true,
        "id": "7f7m2jcJPYU-"
      },
      "source": [
        "# Code you have previously used to load data\n",
        "import pandas as pd\n",
        "from sklearn.tree import DecisionTreeRegressor\n",
        "\n",
        "# Path of the file to read\n",
        "iowa_file_path = '../input/home-data-for-ml-course/train.csv'\n",
        "\n",
        "home_data = pd.read_csv(iowa_file_path)\n",
        "y = home_data.SalePrice\n",
        "feature_columns = ['LotArea', 'YearBuilt', '1stFlrSF', '2ndFlrSF', 'FullBath', 'BedroomAbvGr', 'TotRmsAbvGrd']\n",
        "X = home_data[feature_columns]\n",
        "\n",
        "# Specify Model\n",
        "iowa_model = DecisionTreeRegressor()\n",
        "# Fit Model\n",
        "iowa_model.fit(X, y)\n",
        "\n",
        "print(\"First in-sample predictions:\", iowa_model.predict(X.head()))\n",
        "print(\"Actual target values for those homes:\", y.head().tolist())\n",
        "\n",
        "# Set up code checking\n",
        "from learntools.core import binder\n",
        "binder.bind(globals())\n",
        "from learntools.machine_learning.ex4 import *\n",
        "print(\"Setup Complete\")"
      ],
      "execution_count": null,
      "outputs": []
    },
    {
      "cell_type": "markdown",
      "metadata": {
        "id": "IuNe-pwVPYU_"
      },
      "source": [
        "# Exercises\n",
        "\n",
        "## Step 1: Split Your Data\n",
        "Use the `train_test_split` function to split up your data.\n",
        "\n",
        "Give it the argument `random_state=1` so the `check` functions know what to expect when verifying your code.\n",
        "\n",
        "Recall, your features are loaded in the DataFrame **X** and your target is loaded in **y**.\n"
      ]
    },
    {
      "cell_type": "code",
      "metadata": {
        "execution": {
          "iopub.status.busy": "2021-08-13T01:45:27.184942Z",
          "iopub.execute_input": "2021-08-13T01:45:27.185332Z",
          "iopub.status.idle": "2021-08-13T01:45:27.214565Z",
          "shell.execute_reply.started": "2021-08-13T01:45:27.185302Z",
          "shell.execute_reply": "2021-08-13T01:45:27.213526Z"
        },
        "trusted": true,
        "id": "lS5eMn5HPYVA"
      },
      "source": [
        "# Import the train_test_split function and uncomment\n",
        "from sklearn.model_selection import train_test_split\n",
        "\n",
        "# fill in and uncomment\n",
        "train_X, val_X, train_y, val_y = train_test_split(X,y,random_state=1)\n",
        "\n",
        "# Check your answer\n",
        "step_1.check()"
      ],
      "execution_count": null,
      "outputs": []
    },
    {
      "cell_type": "code",
      "metadata": {
        "execution": {
          "iopub.status.busy": "2021-08-13T01:45:05.274857Z",
          "iopub.execute_input": "2021-08-13T01:45:05.275238Z",
          "iopub.status.idle": "2021-08-13T01:45:05.286307Z",
          "shell.execute_reply.started": "2021-08-13T01:45:05.275207Z",
          "shell.execute_reply": "2021-08-13T01:45:05.285593Z"
        },
        "trusted": true,
        "id": "7kRSVaHQPYVB"
      },
      "source": [
        "# The lines below will show you a hint or the solution.\n",
        "step_1.hint() \n",
        "step_1.solution()\n"
      ],
      "execution_count": null,
      "outputs": []
    },
    {
      "cell_type": "markdown",
      "metadata": {
        "id": "wpxSdkiHPYVB"
      },
      "source": [
        "## Step 2: Specify and Fit the Model\n",
        "\n",
        "Create a `DecisionTreeRegressor` model and fit it to the relevant data.\n",
        "Set `random_state` to 1 again when creating the model."
      ]
    },
    {
      "cell_type": "code",
      "metadata": {
        "execution": {
          "iopub.status.busy": "2021-08-13T01:49:32.704913Z",
          "iopub.execute_input": "2021-08-13T01:49:32.705288Z",
          "iopub.status.idle": "2021-08-13T01:49:32.7393Z",
          "shell.execute_reply.started": "2021-08-13T01:49:32.705257Z",
          "shell.execute_reply": "2021-08-13T01:49:32.738243Z"
        },
        "trusted": true,
        "id": "oxz0q5sbPYVC"
      },
      "source": [
        "# You imported DecisionTreeRegressor in your last exercise\n",
        "# and that code has been copied to the setup code above. So, no need to\n",
        "# import it again\n",
        "from sklearn.tree import DecisionTreeRegressor\n",
        "# Specify the model\n",
        "iowa_model = DecisionTreeRegressor(random_state = 1)\n",
        "\n",
        "# Fit iowa_model with the training data.\n",
        "iowa_model.fit(train_X, train_y)\n",
        "\n",
        "# Check your answer\n",
        "step_2.check()"
      ],
      "execution_count": null,
      "outputs": []
    },
    {
      "cell_type": "code",
      "metadata": {
        "execution": {
          "iopub.status.busy": "2021-08-13T01:50:01.055661Z",
          "iopub.execute_input": "2021-08-13T01:50:01.056203Z",
          "iopub.status.idle": "2021-08-13T01:50:01.068181Z",
          "shell.execute_reply.started": "2021-08-13T01:50:01.056155Z",
          "shell.execute_reply": "2021-08-13T01:50:01.067364Z"
        },
        "trusted": true,
        "id": "7xuOaLaMPYVD"
      },
      "source": [
        "step_2.hint()\n",
        "step_2.solution()"
      ],
      "execution_count": null,
      "outputs": []
    },
    {
      "cell_type": "markdown",
      "metadata": {
        "id": "x1y6WT-3PYVE"
      },
      "source": [
        "## Step 3: Make Predictions with Validation data\n"
      ]
    },
    {
      "cell_type": "code",
      "metadata": {
        "execution": {
          "iopub.status.busy": "2021-08-13T01:50:59.828Z",
          "iopub.execute_input": "2021-08-13T01:50:59.828534Z",
          "iopub.status.idle": "2021-08-13T01:50:59.841621Z",
          "shell.execute_reply.started": "2021-08-13T01:50:59.828499Z",
          "shell.execute_reply": "2021-08-13T01:50:59.840597Z"
        },
        "trusted": true,
        "id": "BvSY_MuJPYVE"
      },
      "source": [
        "# Predict with all validation observations\n",
        "val_predictions = iowa_model.predict(val_X)\n",
        "\n",
        "# Check your answer\n",
        "step_3.check()"
      ],
      "execution_count": null,
      "outputs": []
    },
    {
      "cell_type": "code",
      "metadata": {
        "execution": {
          "iopub.status.busy": "2021-08-13T01:51:09.02599Z",
          "iopub.execute_input": "2021-08-13T01:51:09.026537Z",
          "iopub.status.idle": "2021-08-13T01:51:09.038298Z",
          "shell.execute_reply.started": "2021-08-13T01:51:09.026491Z",
          "shell.execute_reply": "2021-08-13T01:51:09.037137Z"
        },
        "trusted": true,
        "id": "3NeBtUMbPYVF"
      },
      "source": [
        "step_3.hint()\n",
        "step_3.solution()"
      ],
      "execution_count": null,
      "outputs": []
    },
    {
      "cell_type": "markdown",
      "metadata": {
        "id": "XOL6skqNPYVF"
      },
      "source": [
        "Inspect your predictions and actual values from validation data."
      ]
    },
    {
      "cell_type": "code",
      "metadata": {
        "execution": {
          "iopub.status.busy": "2021-08-13T01:54:10.910876Z",
          "iopub.execute_input": "2021-08-13T01:54:10.911223Z",
          "iopub.status.idle": "2021-08-13T01:54:10.920313Z",
          "shell.execute_reply.started": "2021-08-13T01:54:10.911195Z",
          "shell.execute_reply": "2021-08-13T01:54:10.919205Z"
        },
        "trusted": true,
        "id": "3qU8vFw9PYVF"
      },
      "source": [
        "# print the top few validation predictions\n",
        "print(iowa_model.predict(val_X.head()))\n",
        "# print the top few actual prices from validation data\n",
        "print(val_y.head())"
      ],
      "execution_count": null,
      "outputs": []
    },
    {
      "cell_type": "markdown",
      "metadata": {
        "id": "27NO0KHXPYVG"
      },
      "source": [
        "What do you notice that is different from what you saw with in-sample predictions (which are printed after the top code cell in this page).\n",
        "\n",
        "Do you remember why validation predictions differ from in-sample (or training) predictions? This is an important idea from the last lesson.\n",
        "\n",
        "## Step 4: Calculate the Mean Absolute Error in Validation Data\n"
      ]
    },
    {
      "cell_type": "code",
      "metadata": {
        "execution": {
          "iopub.status.busy": "2021-08-13T01:56:32.005282Z",
          "iopub.execute_input": "2021-08-13T01:56:32.005687Z",
          "iopub.status.idle": "2021-08-13T01:56:32.015354Z",
          "shell.execute_reply.started": "2021-08-13T01:56:32.005653Z",
          "shell.execute_reply": "2021-08-13T01:56:32.014614Z"
        },
        "trusted": true,
        "id": "bvvcO9LDPYVG"
      },
      "source": [
        "from sklearn.metrics import mean_absolute_error\n",
        "val_mae = mean_absolute_error(val_y,val_predictions)\n",
        "\n",
        "# uncomment following line to see the validation_mae\n",
        "print(val_mae)\n",
        "\n",
        "# Check your answer\n",
        "step_4.check()"
      ],
      "execution_count": null,
      "outputs": []
    },
    {
      "cell_type": "code",
      "metadata": {
        "execution": {
          "iopub.status.busy": "2021-08-13T01:57:09.375414Z",
          "iopub.execute_input": "2021-08-13T01:57:09.375758Z",
          "iopub.status.idle": "2021-08-13T01:57:09.388482Z",
          "shell.execute_reply.started": "2021-08-13T01:57:09.37573Z",
          "shell.execute_reply": "2021-08-13T01:57:09.38742Z"
        },
        "trusted": true,
        "id": "ckc3Zr9DPYVH"
      },
      "source": [
        "step_4.hint()\n",
        "step_4.solution()"
      ],
      "execution_count": null,
      "outputs": []
    },
    {
      "cell_type": "markdown",
      "metadata": {
        "id": "YZ6FEahVPYVH"
      },
      "source": [
        "Is that MAE good?  There isn't a general rule for what values are good that applies across applications. But you'll see how to use (and improve) this number in the next step.\n",
        "\n",
        "# Keep Going\n",
        "\n",
        "You are ready for **[Underfitting and Overfitting](https://www.kaggle.com/dansbecker/underfitting-and-overfitting).**\n"
      ]
    },
    {
      "cell_type": "markdown",
      "metadata": {
        "id": "k8zCiRyqPYVI"
      },
      "source": [
        "---\n",
        "\n",
        "\n",
        "\n",
        "\n",
        "*Have questions or comments? Visit the [Learn Discussion forum](https://www.kaggle.com/learn-forum/161285) to chat with other Learners.*"
      ]
    }
  ]
}