{
  "nbformat": 4,
  "nbformat_minor": 0,
  "metadata": {
    "kernelspec": {
      "language": "python",
      "display_name": "Python 3",
      "name": "python3"
    },
    "language_info": {
      "name": "python",
      "version": "3.7.10",
      "mimetype": "text/x-python",
      "codemirror_mode": {
        "name": "ipython",
        "version": 3
      },
      "pygments_lexer": "ipython3",
      "nbconvert_exporter": "python",
      "file_extension": ".py"
    },
    "colab": {
      "name": "exercise-your-first-machine-learning-model.ipynb",
      "provenance": [],
      "include_colab_link": true
    }
  },
  "cells": [
    {
      "cell_type": "markdown",
      "metadata": {
        "id": "view-in-github",
        "colab_type": "text"
      },
      "source": [
        "<a href=\"https://colab.research.google.com/github/ja754969/OC_2021_project/blob/practice-and-read/kaggle_Courses/Intro%20to%20Machine%20Learning/exercise_your_first_machine_learning_model.ipynb\" target=\"_parent\"><img src=\"https://colab.research.google.com/assets/colab-badge.svg\" alt=\"Open In Colab\"/></a>"
      ]
    },
    {
      "cell_type": "markdown",
      "metadata": {
        "id": "DQpnx4v5Sphq"
      },
      "source": [
        "**This notebook is an exercise in the [Introduction to Machine Learning](https://www.kaggle.com/learn/intro-to-machine-learning) course.  You can reference the tutorial at [this link](https://www.kaggle.com/dansbecker/your-first-machine-learning-model).**\n",
        "\n",
        "---\n"
      ]
    },
    {
      "cell_type": "markdown",
      "metadata": {
        "id": "9C523OU_Sphv"
      },
      "source": [
        "## Recap\n",
        "So far, you have loaded your data and reviewed it with the following code. Run this cell to set up your coding environment where the previous step left off."
      ]
    },
    {
      "cell_type": "code",
      "metadata": {
        "execution": {
          "iopub.status.busy": "2021-08-12T07:15:12.369639Z",
          "iopub.execute_input": "2021-08-12T07:15:12.370336Z",
          "iopub.status.idle": "2021-08-12T07:15:13.635107Z",
          "shell.execute_reply.started": "2021-08-12T07:15:12.370245Z",
          "shell.execute_reply": "2021-08-12T07:15:13.63402Z"
        },
        "trusted": true,
        "id": "G6Sz8AMJSphw"
      },
      "source": [
        "# Code you have previously used to load data\n",
        "import pandas as pd\n",
        "\n",
        "# Path of the file to read\n",
        "iowa_file_path = '../input/home-data-for-ml-course/train.csv'\n",
        "\n",
        "home_data = pd.read_csv(iowa_file_path)\n",
        "\n",
        "# Set up code checking\n",
        "from learntools.core import binder\n",
        "binder.bind(globals())\n",
        "from learntools.machine_learning.ex3 import *\n",
        "\n",
        "print(\"Setup Complete\")"
      ],
      "execution_count": null,
      "outputs": []
    },
    {
      "cell_type": "markdown",
      "metadata": {
        "id": "QDkmXL_lSphy"
      },
      "source": [
        "# Exercises\n",
        "\n",
        "## Step 1: Specify Prediction Target\n",
        "Select the target variable, which corresponds to the sales price. Save this to a new variable called `y`. You'll need to print a list of the columns to find the name of the column you need.\n"
      ]
    },
    {
      "cell_type": "code",
      "metadata": {
        "execution": {
          "iopub.status.busy": "2021-08-12T07:16:36.713091Z",
          "iopub.execute_input": "2021-08-12T07:16:36.713653Z",
          "iopub.status.idle": "2021-08-12T07:16:36.719649Z",
          "shell.execute_reply.started": "2021-08-12T07:16:36.71362Z",
          "shell.execute_reply": "2021-08-12T07:16:36.718643Z"
        },
        "trusted": true,
        "id": "On-TG34tSphz"
      },
      "source": [
        "# print the list of columns in the dataset to find the name of the prediction target\n",
        "print(home_data.columns)"
      ],
      "execution_count": null,
      "outputs": []
    },
    {
      "cell_type": "code",
      "metadata": {
        "execution": {
          "iopub.status.busy": "2021-08-12T07:17:53.224963Z",
          "iopub.execute_input": "2021-08-12T07:17:53.22531Z",
          "iopub.status.idle": "2021-08-12T07:17:53.234339Z",
          "shell.execute_reply.started": "2021-08-12T07:17:53.225281Z",
          "shell.execute_reply": "2021-08-12T07:17:53.233255Z"
        },
        "trusted": true,
        "id": "ssLtWt6YSphz"
      },
      "source": [
        "y = home_data.SalePrice\n",
        "\n",
        "# Check your answer\n",
        "step_1.check()"
      ],
      "execution_count": null,
      "outputs": []
    },
    {
      "cell_type": "code",
      "metadata": {
        "execution": {
          "iopub.status.busy": "2021-08-12T07:17:58.736027Z",
          "iopub.execute_input": "2021-08-12T07:17:58.736375Z",
          "iopub.status.idle": "2021-08-12T07:17:58.748175Z",
          "shell.execute_reply.started": "2021-08-12T07:17:58.736346Z",
          "shell.execute_reply": "2021-08-12T07:17:58.747118Z"
        },
        "trusted": true,
        "id": "zl1JPTz7Sph0"
      },
      "source": [
        "# The lines below will show you a hint or the solution.\n",
        "step_1.hint() \n",
        "step_1.solution()"
      ],
      "execution_count": null,
      "outputs": []
    },
    {
      "cell_type": "markdown",
      "metadata": {
        "id": "5lpCnG9uSph1"
      },
      "source": [
        "## Step 2: Create X\n",
        "Now you will create a DataFrame called `X` holding the predictive features.\n",
        "\n",
        "Since you want only some columns from the original data, you'll first create a list with the names of the columns you want in `X`.\n",
        "\n",
        "You'll use just the following columns in the list (you can copy and paste the whole list to save some typing, though you'll still need to add quotes):\n",
        "    * LotArea\n",
        "    * YearBuilt\n",
        "    * 1stFlrSF\n",
        "    * 2ndFlrSF\n",
        "    * FullBath\n",
        "    * BedroomAbvGr\n",
        "    * TotRmsAbvGrd\n",
        "\n",
        "After you've created that list of features, use it to create the DataFrame that you'll use to fit the model."
      ]
    },
    {
      "cell_type": "code",
      "metadata": {
        "execution": {
          "iopub.status.busy": "2021-08-12T07:21:38.696805Z",
          "iopub.execute_input": "2021-08-12T07:21:38.697188Z",
          "iopub.status.idle": "2021-08-12T07:21:38.709594Z",
          "shell.execute_reply.started": "2021-08-12T07:21:38.697157Z",
          "shell.execute_reply": "2021-08-12T07:21:38.708195Z"
        },
        "trusted": true,
        "id": "5pcugcRCSph2"
      },
      "source": [
        "# Create the list of features below\n",
        "feature_names = ['LotArea','YearBuilt','1stFlrSF','2ndFlrSF','FullBath','BedroomAbvGr','TotRmsAbvGrd']\n",
        "\n",
        "# Select data corresponding to features in feature_names\n",
        "X = home_data[feature_names]\n",
        "\n",
        "# Check your answer\n",
        "step_2.check()"
      ],
      "execution_count": null,
      "outputs": []
    },
    {
      "cell_type": "code",
      "metadata": {
        "execution": {
          "iopub.status.busy": "2021-08-12T07:21:57.855983Z",
          "iopub.execute_input": "2021-08-12T07:21:57.856335Z",
          "iopub.status.idle": "2021-08-12T07:21:57.867479Z",
          "shell.execute_reply.started": "2021-08-12T07:21:57.856306Z",
          "shell.execute_reply": "2021-08-12T07:21:57.866764Z"
        },
        "trusted": true,
        "id": "1yKtQNVzSph2"
      },
      "source": [
        "step_2.hint()\n",
        "step_2.solution()"
      ],
      "execution_count": null,
      "outputs": []
    },
    {
      "cell_type": "markdown",
      "metadata": {
        "id": "xeVn-DJfSph3"
      },
      "source": [
        "## Review Data\n",
        "Before building a model, take a quick look at **X** to verify it looks sensible"
      ]
    },
    {
      "cell_type": "code",
      "metadata": {
        "execution": {
          "iopub.status.busy": "2021-08-12T07:23:17.326074Z",
          "iopub.execute_input": "2021-08-12T07:23:17.326457Z",
          "iopub.status.idle": "2021-08-12T07:23:17.360553Z",
          "shell.execute_reply.started": "2021-08-12T07:23:17.326426Z",
          "shell.execute_reply": "2021-08-12T07:23:17.359338Z"
        },
        "trusted": true,
        "id": "wGaaP5qgSph3"
      },
      "source": [
        "# Review data\n",
        "# print description or statistics from X\n",
        "print(X.describe())\n",
        "\n",
        "# print the top few lines\n",
        "print(X.head())"
      ],
      "execution_count": null,
      "outputs": []
    },
    {
      "cell_type": "markdown",
      "metadata": {
        "id": "C9P7Jy_NSph4"
      },
      "source": [
        "## Step 3: Specify and Fit Model\n",
        "Create a `DecisionTreeRegressor` and save it iowa_model. Ensure you've done the relevant import from sklearn to run this command.\n",
        "\n",
        "Then fit the model you just created using the data in `X` and `y` that you saved above."
      ]
    },
    {
      "cell_type": "code",
      "metadata": {
        "execution": {
          "iopub.status.busy": "2021-08-12T07:30:05.977092Z",
          "iopub.execute_input": "2021-08-12T07:30:05.977452Z",
          "iopub.status.idle": "2021-08-12T07:30:05.99859Z",
          "shell.execute_reply.started": "2021-08-12T07:30:05.97742Z",
          "shell.execute_reply": "2021-08-12T07:30:05.997583Z"
        },
        "trusted": true,
        "id": "S428Z0fRSph4"
      },
      "source": [
        "from sklearn.tree import DecisionTreeRegressor\n",
        "#specify the model. \n",
        "#For model reproducibility, set a numeric value for random_state when specifying the model\n",
        "iowa_model = DecisionTreeRegressor(random_state=87)\n",
        "\n",
        "# Fit the mode\n",
        "iowa_model.fit(X,y)\n",
        "\n",
        "# Check your answer\n",
        "step_3.check()"
      ],
      "execution_count": null,
      "outputs": []
    },
    {
      "cell_type": "code",
      "metadata": {
        "execution": {
          "iopub.status.busy": "2021-08-12T07:30:10.336639Z",
          "iopub.execute_input": "2021-08-12T07:30:10.337002Z",
          "iopub.status.idle": "2021-08-12T07:30:10.349958Z",
          "shell.execute_reply.started": "2021-08-12T07:30:10.33697Z",
          "shell.execute_reply": "2021-08-12T07:30:10.348832Z"
        },
        "trusted": true,
        "id": "D5lmFNSfSph5"
      },
      "source": [
        "step_3.hint()\n",
        "step_3.solution()"
      ],
      "execution_count": null,
      "outputs": []
    },
    {
      "cell_type": "markdown",
      "metadata": {
        "id": "obdSjt3tSph5"
      },
      "source": [
        "## Step 4: Make Predictions\n",
        "Make predictions with the model's `predict` command using `X` as the data. Save the results to a variable called `predictions`."
      ]
    },
    {
      "cell_type": "code",
      "metadata": {
        "execution": {
          "iopub.status.busy": "2021-08-12T07:31:09.686335Z",
          "iopub.execute_input": "2021-08-12T07:31:09.68673Z",
          "iopub.status.idle": "2021-08-12T07:31:09.703359Z",
          "shell.execute_reply.started": "2021-08-12T07:31:09.686698Z",
          "shell.execute_reply": "2021-08-12T07:31:09.702258Z"
        },
        "trusted": true,
        "id": "FxHnEMukSph6"
      },
      "source": [
        "predictions = iowa_model.predict(X)\n",
        "print(predictions)\n",
        "\n",
        "# Check your answer\n",
        "step_4.check()"
      ],
      "execution_count": null,
      "outputs": []
    },
    {
      "cell_type": "code",
      "metadata": {
        "execution": {
          "iopub.status.busy": "2021-08-12T07:31:29.066611Z",
          "iopub.execute_input": "2021-08-12T07:31:29.06696Z",
          "iopub.status.idle": "2021-08-12T07:31:29.078751Z",
          "shell.execute_reply.started": "2021-08-12T07:31:29.066931Z",
          "shell.execute_reply": "2021-08-12T07:31:29.077826Z"
        },
        "trusted": true,
        "id": "GjvsHgdpSph6"
      },
      "source": [
        "step_4.hint()\n",
        "step_4.solution()"
      ],
      "execution_count": null,
      "outputs": []
    },
    {
      "cell_type": "markdown",
      "metadata": {
        "id": "1oGc-cVSSph6"
      },
      "source": [
        "## Think About Your Results\n",
        "\n",
        "Use the `head` method to compare the top few predictions to the actual home values (in `y`) for those same homes. Anything surprising?\n"
      ]
    },
    {
      "cell_type": "code",
      "metadata": {
        "execution": {
          "iopub.status.busy": "2021-08-12T07:34:39.075671Z",
          "iopub.execute_input": "2021-08-12T07:34:39.076193Z",
          "iopub.status.idle": "2021-08-12T07:34:39.082561Z",
          "shell.execute_reply.started": "2021-08-12T07:34:39.076158Z",
          "shell.execute_reply": "2021-08-12T07:34:39.08132Z"
        },
        "trusted": true,
        "id": "d3KOXQ8qSph7"
      },
      "source": [
        "# You can write code in this cell\n",
        "print(predictions[0:5])\n",
        "\n",
        "print(y.head())"
      ],
      "execution_count": null,
      "outputs": []
    },
    {
      "cell_type": "markdown",
      "metadata": {
        "id": "3S5jsoc8Sph7"
      },
      "source": [
        "It's natural to ask how accurate the model's predictions will be and how you can improve that. That will be you're next step.\n",
        "\n",
        "# Keep Going\n",
        "\n",
        "You are ready for **[Model Validation](https://www.kaggle.com/dansbecker/model-validation).**\n"
      ]
    },
    {
      "cell_type": "markdown",
      "metadata": {
        "id": "mvfPAbAOSph7"
      },
      "source": [
        "---\n",
        "\n",
        "\n",
        "\n",
        "\n",
        "*Have questions or comments? Visit the [Learn Discussion forum](https://www.kaggle.com/learn-forum/161285) to chat with other Learners.*"
      ]
    }
  ]
}