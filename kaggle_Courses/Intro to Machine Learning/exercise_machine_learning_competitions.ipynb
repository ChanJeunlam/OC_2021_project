{
  "nbformat": 4,
  "nbformat_minor": 0,
  "metadata": {
    "kernelspec": {
      "language": "python",
      "display_name": "Python 3",
      "name": "python3"
    },
    "language_info": {
      "name": "python",
      "version": "3.7.10",
      "mimetype": "text/x-python",
      "codemirror_mode": {
        "name": "ipython",
        "version": 3
      },
      "pygments_lexer": "ipython3",
      "nbconvert_exporter": "python",
      "file_extension": ".py"
    },
    "colab": {
      "name": "exercise-machine-learning-competitions.ipynb",
      "provenance": [],
      "include_colab_link": true
    }
  },
  "cells": [
    {
      "cell_type": "markdown",
      "metadata": {
        "id": "view-in-github",
        "colab_type": "text"
      },
      "source": [
        "<a href=\"https://colab.research.google.com/github/ja754969/OC_2021_project/blob/practice-and-read/kaggle_Courses/Intro%20to%20Machine%20Learning/exercise_machine_learning_competitions.ipynb\" target=\"_parent\"><img src=\"https://colab.research.google.com/assets/colab-badge.svg\" alt=\"Open In Colab\"/></a>"
      ]
    },
    {
      "cell_type": "markdown",
      "metadata": {
        "id": "8OipbEf6-Hct"
      },
      "source": [
        "**This notebook is an exercise in the [Introduction to Machine Learning](https://www.kaggle.com/learn/intro-to-machine-learning) course.  You can reference the tutorial at [this link](https://www.kaggle.com/alexisbcook/machine-learning-competitions).**\n",
        "\n",
        "---\n"
      ]
    },
    {
      "cell_type": "markdown",
      "metadata": {
        "id": "VcG_X__E-Hcu"
      },
      "source": [
        "# Introduction\n",
        "\n",
        "In this exercise, you will create and submit predictions for a Kaggle competition. You can then improve your model (e.g. by adding features) to apply what you've learned and move up the leaderboard.\n",
        "\n",
        "Begin by running the code cell below to set up code checking and the filepaths for the dataset."
      ]
    },
    {
      "cell_type": "code",
      "metadata": {
        "execution": {
          "iopub.status.busy": "2021-08-13T14:20:10.623269Z",
          "iopub.execute_input": "2021-08-13T14:20:10.623673Z",
          "iopub.status.idle": "2021-08-13T14:20:10.800764Z",
          "shell.execute_reply.started": "2021-08-13T14:20:10.623586Z",
          "shell.execute_reply": "2021-08-13T14:20:10.799355Z"
        },
        "trusted": true,
        "id": "PZ57R__L-Hcv",
        "colab": {
          "base_uri": "https://localhost:8080/"
        },
        "outputId": "c2141704-fc9c-4530-e916-d0b7ccf5bdab"
      },
      "source": [
        "# Set up filepaths\n",
        "!git clone https://github.com/ja754969/OC_2021_project.git\n",
        "import os\n",
        "if not os.path.exists(\"/content/OC_2021_project/kaggle_Courses/Intro to Machine Learning/input/home-data-for-ml-course/train.csv\"):\n",
        "    os.symlink(\"/content/OC_2021_project/kaggle_Courses/Intro to Machine Learning/input/home-data-for-ml-course/train.csv\",\"/content/OC_2021_project/kaggle_Courses/Intro to Machine Learning/input/train.csv\")  \n",
        "    os.symlink(\"/content/OC_2021_project/kaggle_Courses/Intro to Machine Learning/input/home-data-for-ml-course/test.csv\",\"/content/OC_2021_project/kaggle_Courses/Intro to Machine Learning/input/test.csv\") "
      ],
      "execution_count": 1,
      "outputs": [
        {
          "output_type": "stream",
          "text": [
            "Cloning into 'OC_2021_project'...\n",
            "remote: Enumerating objects: 707, done.\u001b[K\n",
            "remote: Counting objects: 100% (362/362), done.\u001b[K\n",
            "remote: Compressing objects: 100% (351/351), done.\u001b[K\n",
            "remote: Total 707 (delta 199), reused 2 (delta 2), pack-reused 345\u001b[K\n",
            "Receiving objects: 100% (707/707), 28.28 MiB | 34.89 MiB/s, done.\n",
            "Resolving deltas: 100% (347/347), done.\n"
          ],
          "name": "stdout"
        }
      ]
    },
    {
      "cell_type": "markdown",
      "metadata": {
        "id": "RWTUatKA-Hc2"
      },
      "source": [
        "Here's some of the code you've written so far. Start by running it again."
      ]
    },
    {
      "cell_type": "code",
      "metadata": {
        "execution": {
          "iopub.status.busy": "2021-08-13T14:20:23.913736Z",
          "iopub.execute_input": "2021-08-13T14:20:23.914138Z",
          "iopub.status.idle": "2021-08-13T14:20:26.072165Z",
          "shell.execute_reply.started": "2021-08-13T14:20:23.914085Z",
          "shell.execute_reply": "2021-08-13T14:20:26.070819Z"
        },
        "trusted": true,
        "id": "kNyU_FRs-Hc2",
        "colab": {
          "base_uri": "https://localhost:8080/"
        },
        "outputId": "f7a6a44a-287f-4ddc-b714-58e143b5ed9d"
      },
      "source": [
        "# Import helpful libraries\n",
        "import pandas as pd\n",
        "from sklearn.ensemble import RandomForestRegressor\n",
        "from sklearn.metrics import mean_absolute_error\n",
        "from sklearn.model_selection import train_test_split\n",
        "\n",
        "# Load the data, and separate the target\n",
        "iowa_file_path = '/content/OC_2021_project/kaggle_Courses/Intro to Machine Learning/input/home-data-for-ml-course/train.csv'\n",
        "home_data = pd.read_csv(iowa_file_path)\n",
        "y = home_data.SalePrice\n",
        "\n",
        "# Create X (After completing the exercise, you can return to modify this line!)\n",
        "features = ['LotArea', 'YearBuilt', '1stFlrSF', '2ndFlrSF', 'FullBath', 'BedroomAbvGr', 'TotRmsAbvGrd']\n",
        "\n",
        "# Select columns corresponding to features, and preview the data\n",
        "X = home_data[features]\n",
        "X.head()\n",
        "\n",
        "# Split into validation and training data\n",
        "train_X, val_X, train_y, val_y = train_test_split(X, y, random_state=1)\n",
        "\n",
        "# Define a random forest model\n",
        "rf_model = RandomForestRegressor(random_state=1)\n",
        "rf_model.fit(train_X, train_y)\n",
        "rf_val_predictions = rf_model.predict(val_X)\n",
        "rf_val_mae = mean_absolute_error(rf_val_predictions, val_y)\n",
        "\n",
        "print(\"Validation MAE for Random Forest Model: {:,.0f}\".format(rf_val_mae))"
      ],
      "execution_count": 2,
      "outputs": [
        {
          "output_type": "stream",
          "text": [
            "Validation MAE for Random Forest Model: 21,857\n"
          ],
          "name": "stdout"
        }
      ]
    },
    {
      "cell_type": "markdown",
      "metadata": {
        "id": "ZgMuwd42-Hc3"
      },
      "source": [
        "# Train a model for the competition\n",
        "\n",
        "The code cell above trains a Random Forest model on **`train_X`** and **`train_y`**.  \n",
        "\n",
        "Use the code cell below to build a Random Forest model and train it on all of **`X`** and **`y`**."
      ]
    },
    {
      "cell_type": "code",
      "metadata": {
        "execution": {
          "iopub.status.busy": "2021-08-13T14:24:01.363839Z",
          "iopub.execute_input": "2021-08-13T14:24:01.364223Z",
          "iopub.status.idle": "2021-08-13T14:24:01.992913Z",
          "shell.execute_reply.started": "2021-08-13T14:24:01.364188Z",
          "shell.execute_reply": "2021-08-13T14:24:01.99186Z"
        },
        "trusted": true,
        "id": "KQfB7GZl-Hc4",
        "colab": {
          "base_uri": "https://localhost:8080/"
        },
        "outputId": "88a41e69-7b19-4eb1-c7c4-e78df87701cb"
      },
      "source": [
        "# To improve accuracy, create a new Random Forest model which you will train on all training data\n",
        "rf_model_on_full_data = RandomForestRegressor(random_state = 1)\n",
        "\n",
        "# fit rf_model_on_full_data on all data from the training data\n",
        "rf_model_on_full_data.fit(X,y)"
      ],
      "execution_count": 3,
      "outputs": [
        {
          "output_type": "execute_result",
          "data": {
            "text/plain": [
              "RandomForestRegressor(bootstrap=True, ccp_alpha=0.0, criterion='mse',\n",
              "                      max_depth=None, max_features='auto', max_leaf_nodes=None,\n",
              "                      max_samples=None, min_impurity_decrease=0.0,\n",
              "                      min_impurity_split=None, min_samples_leaf=1,\n",
              "                      min_samples_split=2, min_weight_fraction_leaf=0.0,\n",
              "                      n_estimators=100, n_jobs=None, oob_score=False,\n",
              "                      random_state=1, verbose=0, warm_start=False)"
            ]
          },
          "metadata": {
            "tags": []
          },
          "execution_count": 3
        }
      ]
    },
    {
      "cell_type": "markdown",
      "metadata": {
        "id": "JEz7sPSa-Hc5"
      },
      "source": [
        "Now, read the file of \"test\" data, and apply your model to make predictions."
      ]
    },
    {
      "cell_type": "code",
      "metadata": {
        "execution": {
          "iopub.status.busy": "2021-08-13T14:27:35.80094Z",
          "iopub.execute_input": "2021-08-13T14:27:35.80131Z",
          "iopub.status.idle": "2021-08-13T14:27:35.872441Z",
          "shell.execute_reply.started": "2021-08-13T14:27:35.801278Z",
          "shell.execute_reply": "2021-08-13T14:27:35.871243Z"
        },
        "trusted": true,
        "id": "mZcFJvBt-Hc6"
      },
      "source": [
        "# path to file you will use for predictions\n",
        "test_data_path = '/content/OC_2021_project/kaggle_Courses/Intro to Machine Learning/input/home-data-for-ml-course/test.csv'\n",
        "\n",
        "# read test data file using pandas\n",
        "test_data = pd.read_csv(test_data_path)\n",
        "\n",
        "# create test_X which comes from test_data but includes only the columns you used for prediction.\n",
        "# The list of columns is stored in a variable called features\n",
        "test_X = test_data[features]\n",
        "\n",
        "# make predictions which we will submit. \n",
        "test_preds = rf_model_on_full_data.predict(test_X)"
      ],
      "execution_count": 5,
      "outputs": []
    },
    {
      "cell_type": "markdown",
      "metadata": {
        "id": "YUq38BvF-Hc6"
      },
      "source": [
        "Before submitting, run a check to make sure your `test_preds` have the right format."
      ]
    },
    {
      "cell_type": "markdown",
      "metadata": {
        "id": "lNcH-qp1-Hc7"
      },
      "source": [
        "# Generate a submission\n",
        "\n",
        "Run the code cell below to generate a CSV file with your predictions that you can use to submit to the competition."
      ]
    },
    {
      "cell_type": "code",
      "metadata": {
        "execution": {
          "iopub.status.busy": "2021-08-13T14:30:11.673777Z",
          "iopub.execute_input": "2021-08-13T14:30:11.674113Z",
          "iopub.status.idle": "2021-08-13T14:30:11.685701Z",
          "shell.execute_reply.started": "2021-08-13T14:30:11.674085Z",
          "shell.execute_reply": "2021-08-13T14:30:11.684396Z"
        },
        "trusted": true,
        "id": "D9VIdl6I-Hc8"
      },
      "source": [
        "# Run the code to save predictions in the format used for competition scoring\n",
        "\n",
        "output = pd.DataFrame({'Id': test_data.Id,\n",
        "                       'SalePrice': test_preds})\n",
        "output.to_csv('submission.csv', index=False)"
      ],
      "execution_count": 6,
      "outputs": []
    },
    {
      "cell_type": "markdown",
      "metadata": {
        "id": "Hwmi5r2N-Hc8"
      },
      "source": [
        "# Submit to the competition\n",
        "\n",
        "To test your results, you'll need to join the competition (if you haven't already).  So open a new window by clicking on **[this link](https://www.kaggle.com/c/home-data-for-ml-course)**.  Then click on the **Join Competition** button.\n",
        "\n",
        "![join competition image](https://i.imgur.com/axBzctl.png)\n",
        "\n",
        "Next, follow the instructions below:\n",
        "1. Begin by clicking on the **Save Version** button in the top right corner of the window.  This will generate a pop-up window.  \n",
        "2. Ensure that the **Save and Run All** option is selected, and then click on the **Save** button.\n",
        "3. This generates a window in the bottom left corner of the notebook.  After it has finished running, click on the number to the right of the **Save Version** button.  This pulls up a list of versions on the right of the screen.  Click on the ellipsis **(...)** to the right of the most recent version, and select **Open in Viewer**.  This brings you into view mode of the same page. You will need to scroll down to get back to these instructions.\n",
        "4. Click on the **Output** tab on the right of the screen.  Then, click on the file you would like to submit, and click on the blue **Submit** button to submit your results to the leaderboard.\n",
        "\n",
        "You have now successfully submitted to the competition!\n",
        "\n",
        "If you want to keep working to improve your performance, select the **Edit** button in the top right of the screen. Then you can change your code and repeat the process. There's a lot of room to improve, and you will climb up the leaderboard as you work.\n",
        "\n",
        "\n",
        "# Continue Your Progress\n",
        "There are many ways to improve your model, and **experimenting is a great way to learn at this point.**\n",
        "\n",
        "The best way to improve your model is to add features.  To add more features to the data, revisit the first code cell, and change this line of code to include more column names:\n",
        "```python\n",
        "features = ['LotArea', 'YearBuilt', '1stFlrSF', '2ndFlrSF', 'FullBath', 'BedroomAbvGr', 'TotRmsAbvGrd']\n",
        "```\n",
        "\n",
        "Some features will cause errors because of issues like missing values or non-numeric data types.  Here is a complete list of potential columns that you might like to use, and that won't throw errors:\n",
        "- 'MSSubClass'\n",
        "- 'LotArea'\n",
        "- 'OverallQual' \n",
        "- 'OverallCond' \n",
        "- 'YearBuilt'\n",
        "- 'YearRemodAdd' \n",
        "- '1stFlrSF'\n",
        "- '2ndFlrSF' \n",
        "- 'LowQualFinSF' \n",
        "- 'GrLivArea'\n",
        "- 'FullBath'\n",
        "- 'HalfBath'\n",
        "- 'BedroomAbvGr' \n",
        "- 'KitchenAbvGr' \n",
        "- 'TotRmsAbvGrd' \n",
        "- 'Fireplaces' \n",
        "- 'WoodDeckSF' \n",
        "- 'OpenPorchSF'\n",
        "- 'EnclosedPorch' \n",
        "- '3SsnPorch' \n",
        "- 'ScreenPorch' \n",
        "- 'PoolArea' \n",
        "- 'MiscVal' \n",
        "- 'MoSold' \n",
        "- 'YrSold'\n",
        "\n",
        "Look at the list of columns and think about what might affect home prices.  To learn more about each of these features, take a look at the data description on the **[competition page](https://www.kaggle.com/c/home-data-for-ml-course/data)**.\n",
        "\n",
        "After updating the code cell above that defines the features, re-run all of the code cells to evaluate the model and generate a new submission file.  \n",
        "\n",
        "\n",
        "# What's next?\n",
        "\n",
        "As mentioned above, some of the features will throw an error if you try to use them to train your model.  The **[Intermediate Machine Learning](https://www.kaggle.com/learn/intermediate-machine-learning)** course will teach you how to handle these types of features. You will also learn to use **xgboost**, a technique giving even better accuracy than Random Forest.\n",
        "\n",
        "The **[Pandas](https://kaggle.com/Learn/Pandas)** course will give you the data manipulation skills to quickly go from conceptual idea to implementation in your data science projects. \n",
        "\n",
        "You are also ready for the **[Deep Learning](https://kaggle.com/Learn/intro-to-Deep-Learning)** course, where you will build models with better-than-human level performance at computer vision tasks."
      ]
    },
    {
      "cell_type": "markdown",
      "metadata": {
        "id": "gfbcyncY-Hc_"
      },
      "source": [
        "---\n",
        "\n",
        "\n",
        "\n",
        "\n",
        "*Have questions or comments? Visit the [Learn Discussion forum](https://www.kaggle.com/learn-forum/161285) to chat with other Learners.*"
      ]
    }
  ]
}